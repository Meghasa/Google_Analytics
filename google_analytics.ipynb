{
  "cells": [
    {
      "metadata": {
        "_uuid": "72fc6523492af9f4f5ca58429b04f12cbeb61ad0"
      },
      "cell_type": "markdown",
      "source": "# 1. Quick start: read csv and flatten json fields\n\nHi! This notebook just loads the data and flattens the json fields. \nI have put the code in one function so you can copy it easily.\n\nAlso, I dumped the processed dataframes to disk so they are easily importable from within another kernel."
    },
    {
      "metadata": {
        "_uuid": "8f2839f25d086af736a60e9eeb907d3b93b6e0e5",
        "_cell_guid": "b1076dfc-b9ad-4769-8c92-a6c4dae69d19",
        "trusted": true
      },
      "cell_type": "code",
      "source": "import os\nimport json\nimport numpy as np\nimport pandas as pd\nimport matplotlib as plt\nfrom pandas.io.json import json_normalize\n\ndef load_df(csv_path='../input/train_v2.csv', nrows=70000):\n    JSON_COLUMNS = ['device', 'geoNetwork', 'totals', 'trafficSource']\n    \n    df = pd.read_csv(csv_path, \n                     converters={column: json.loads for column in JSON_COLUMNS}, \n                     dtype={'fullVisitorId': 'str'}, # Important!!\n                     nrows=nrows)\n    \n    for column in JSON_COLUMNS:\n        column_as_df = json_normalize(list(df[column]))\n        #column_as_df.columns = [f\"{column}.{subcolumn}\" for subcolumn in column_as_df.columns]\n        df = df.drop(column, axis=1).merge(column_as_df, right_index=True, left_index=True)\n    print(f\"Loaded {os.path.basename(csv_path)}. Shape: {df.shape}\")\n    return df\n\nprint(os.listdir(\"../input\"))",
      "execution_count": 1,
      "outputs": [
        {
          "output_type": "stream",
          "text": "['sample_submission_v2.csv', 'test_v2.csv', 'train_v2.csv']\n",
          "name": "stdout"
        }
      ]
    },
    {
      "metadata": {
        "_cell_guid": "79c7e3d0-c299-4dcb-8224-4455121ee9b0",
        "_uuid": "d629ff2d2480ee46fbb7e2d37f6b5fab8052498a",
        "trusted": true
      },
      "cell_type": "code",
      "source": "%%time\ndf_small = load_df(nrows=20000)",
      "execution_count": null,
      "outputs": []
    },
    {
      "metadata": {
        "trusted": true,
        "_uuid": "d5036c7caa3143a8364757f7c10ea4a91e4b0db5",
        "_kg_hide-output": true,
        "_kg_hide-input": true
      },
      "cell_type": "code",
      "source": "%%time\ndf_train = load_df()\n#df_test = load_df(\"../input/test_v2.csv\")",
      "execution_count": 2,
      "outputs": [
        {
          "output_type": "stream",
          "text": "Loaded train_v2.csv. Shape: (70000, 59)\nCPU times: user 18.1 s, sys: 3.15 s, total: 21.2 s\nWall time: 21.4 s\n",
          "name": "stdout"
        }
      ]
    },
    {
      "metadata": {
        "trusted": true,
        "_uuid": "c836e7c373963f8309b3bedfce3c1bb44f7aab0d"
      },
      "cell_type": "code",
      "source": "%%time\ndf_train.to_csv(\"train-flattened.csv\", index=False)\n#df_test.to_csv(\"test-flattened.csv\", index=False)",
      "execution_count": null,
      "outputs": []
    },
    {
      "metadata": {
        "trusted": true,
        "_uuid": "19d1e5e9b07c0c7e253c03c4a7aa586a735cc29c"
      },
      "cell_type": "code",
      "source": "%%time\n#top_10 =df_train['country'].value_counts()[:10]\n#print(top_10)\n#print(df_train[['visits','country']])\nimport matplotlib.pyplot as plt\ngp =df_train.groupby('country')['fullVisitorId'].count().sort_values(ascending=False)[:10]\n\ngp.plot(kind='bar',title='Visits by country')\nplt.xlabel('Country')\nplt.ylabel('No of Visits')\n#gp.plot.bar(x='country', y='count')",
      "execution_count": 3,
      "outputs": [
        {
          "output_type": "stream",
          "text": "CPU times: user 228 ms, sys: 40 ms, total: 268 ms\nWall time: 278 ms\n",
          "name": "stdout"
        },
        {
          "output_type": "display_data",
          "data": {
            "text/plain": "<Figure size 432x288 with 1 Axes>",
            "image/png": "[encoded data removed]"
          },
          "metadata": {}
        }
      ]
    },
    {
      "metadata": {
        "trusted": true,
        "_uuid": "53f310de1a17203a47292d6232700e81108bf292"
      },
      "cell_type": "code",
      "source": "\ndf_train[\"transactionRevenue\"] = df_train[\"transactionRevenue\"].astype('float')\ngdf = df_train.groupby(\"fullVisitorId\")[\"transactionRevenue\"].sum().reset_index()\n\n#gdf1 = gdf.query('transactionRevenue>0')\n\nplt.figure(figsize=(8,6))\nplt.scatter(range(gdf.shape[0]), np.sort(np.log1p(gdf[\"transactionRevenue\"].values)))\nplt.xlabel('index', fontsize=12)\nplt.ylabel('TransactionRevenue', fontsize=12)\nplt.show()",
      "execution_count": 4,
      "outputs": [
        {
          "output_type": "display_data",
          "data": {
            "text/plain": "<Figure size 576x432 with 1 Axes>",
            "image/png": "[encoded data removed]"
          },
          "metadata": {}
        }
      ]
    },
    {
      "metadata": {
        "trusted": true,
        "_uuid": "3f413c5a3aa630f8de6b87e537c30d7619ee67cd"
      },
      "cell_type": "code",
      "source": "\nimport os\nimport json\nimport numpy as np\nimport pandas as pd\nfrom pandas.io.json import json_normalize\nimport matplotlib.pyplot as plt\nimport seaborn as sns\ncolor = sns.color_palette()\n\n%matplotlib inline\n\nfrom plotly import tools\nimport plotly.offline as py\npy.init_notebook_mode(connected=True)\nimport plotly.graph_objs as go\n\nfrom sklearn import model_selection, preprocessing, metrics\nimport lightgbm as lgb\n\npd.options.mode.chained_assignment = None\npd.options.display.max_columns = 999\ndef horizontal_bar_chart(cnt_srs, color):\n    trace = go.Bar(\n        y=cnt_srs.index[::-1],\n        x=cnt_srs.values[::-1],\n        showlegend=False,\n        orientation = 'h',\n        marker=dict(\n            color=color,\n        ),\n    )\n    return trace\n",
      "execution_count": 6,
      "outputs": [
        {
          "output_type": "display_data",
          "data": {
            "text/html": "<script type=\"text/javascript\">window.PlotlyConfig = {MathJaxConfig: 'local'};</script><script type=\"text/javascript\">if (window.MathJax) {MathJax.Hub.Config({SVG: {font: \"STIX-Web\"}});}</script><script>requirejs.config({paths: { 'plotly': ['https://cdn.plot.ly/plotly-latest.min']},});if(!window._Plotly) {require(['plotly'],function(plotly) {window._Plotly=plotly;});}</script>",
            "text/vnd.plotly.v1+html": "<script type=\"text/javascript\">window.PlotlyConfig = {MathJaxConfig: 'local'};</script><script type=\"text/javascript\">if (window.MathJax) {MathJax.Hub.Config({SVG: {font: \"STIX-Web\"}});}</script><script>requirejs.config({paths: { 'plotly': ['https://cdn.plot.ly/plotly-latest.min']},});if(!window._Plotly) {require(['plotly'],function(plotly) {window._Plotly=plotly;});}</script>"
          },
          "metadata": {}
        }
      ]
    },
    {
      "metadata": {
        "trusted": true,
        "_uuid": "30f4249809096277b8413122f0790155d65b7799",
        "_kg_hide-output": true
      },
      "cell_type": "code",
      "source": "cnt_srs = df_train.groupby('source')['transactionRevenue'].agg(['size', 'count', 'mean'])\ncnt_srs.columns = [\"count\", \"count of non-zero revenue\", \"mean\"]\ncnt_srs = cnt_srs.sort_values(by=\"count\", ascending=False)\ntrace1 = horizontal_bar_chart(cnt_srs[\"count\"].head(10), 'green')\ntrace2 = horizontal_bar_chart(cnt_srs[\"count of non-zero revenue\"].head(10), 'green')\ntrace3 = horizontal_bar_chart(cnt_srs[\"mean\"].head(10), 'green')\n\n# Sub-continent\ncnt_srs = df_train.groupby('medium')['transactionRevenue'].agg(['size', 'count', 'mean'])\ncnt_srs.columns = [\"count\", \"count of non-zero revenue\", \"mean\"]\ncnt_srs = cnt_srs.sort_values(by=\"count\", ascending=False)\ntrace4 = horizontal_bar_chart(cnt_srs[\"count\"], 'blue')\ntrace5 = horizontal_bar_chart(cnt_srs[\"count of non-zero revenue\"], 'blue')\ntrace6 = horizontal_bar_chart(cnt_srs[\"mean\"], 'blue')\n\n# Creating two subplots\nfig = tools.make_subplots(rows=2, cols=3, vertical_spacing=0.08, horizontal_spacing=0.15, \n                          subplot_titles=[\"Traffic Source - Count\", \"Traffic Source - Non-zero Revenue Count\", \"Traffic Source - Mean Revenue\",\n                                          \"Traffic Source Medium - Count\",  \"Traffic Source Medium - Non-zero Revenue Count\", \"Traffic Source Medium - Mean Revenue\"\n                                          ])\n\nfig.append_trace(trace1, 1, 1)\nfig.append_trace(trace2, 1, 2)\nfig.append_trace(trace3, 1, 3)\nfig.append_trace(trace4, 2, 1)\nfig.append_trace(trace5, 2, 2)\nfig.append_trace(trace6, 2, 3)\n\nfig['layout'].update(height=1000, width=1200, paper_bgcolor='rgb(233,233,233)', title=\"Traffic Source Plots\")\npy.iplot(fig)\n",
      "execution_count": 7,
      "outputs": [
        {
          "output_type": "stream",
          "text": "This is the format of your plot grid:\n[ (1,1) x1,y1 ]  [ (1,2) x2,y2 ]  [ (1,3) x3,y3 ]\n[ (2,1) x4,y4 ]  [ (2,2) x5,y5 ]  [ (2,3) x6,y6 ]\n\n",
          "name": "stdout"
        },
        {
          "output_type": "display_data",
          "data": {
            "application/vnd.plotly.v1+json": {
              "data": [
                {
                  "marker": {
                    "color": "green"
                  },
                  "orientation": "h",
                  "showlegend": false,
                  "x": [
                    207,
                    276,
                    327,
                    335,
                    366,
                    1325,
                    1573,
                    15671,
                    19088,
                    29073
                  ],
                  "y": [
                    "baidu",
                    "m.facebook.com",
                    "google.com",
                    "dfa",
                    "sites.google.com",
                    "Partners",
                    "analytics.google.com",
                    "youtube.com",
                    "google",
                    "(direct)"
                  ],
                  "type": "bar",
                  "uid": "b2e5aac3-dc38-4ac3-9b6e-94bffc61fba2",
                  "xaxis": "x",
                  "yaxis": "y"
                },
                {
                  "marker": {
                    "color": "green"
                  },
                  "orientation": "h",
                  "showlegend": false,
                  "x": [
                    0,
                    0,
                    2,
                    8,
                    4,
                    0,
                    0,
                    1,
                    104,
                    631
                  ],
                  "y": [
                    "baidu",
                    "m.facebook.com",
                    "google.com",
                    "dfa",
                    "sites.google.com",
                    "Partners",
                    "analytics.google.com",
                    "youtube.com",
                    "google",
                    "(direct)"
                  ],
                  "type": "bar",
                  "uid": "4b87538f-5e45-4d4d-a168-8d141b8c15c4",
                  "xaxis": "x2",
                  "yaxis": "y2"
                },
                {
                  "marker": {
                    "color": "green"
                  },
                  "orientation": "h",
                  "showlegend": false,
                  "x": [
                    null,
                    null,
                    21990000,
                    263563750,
                    175505000,
                    null,
                    null,
                    16990000,
                    82962980.76923077,
                    123537004.75435816
                  ],
                  "y": [
                    "baidu",
                    "m.facebook.com",
                    "google.com",
                    "dfa",
                    "sites.google.com",
                    "Partners",
                    "analytics.google.com",
                    "youtube.com",
                    "google",
                    "(direct)"
                  ],
                  "type": "bar",
                  "uid": "1a7b3601-f86b-461e-b173-59a185aa1a07",
                  "xaxis": "x3",
                  "yaxis": "y3"
                },
                {
                  "marker": {
                    "color": "blue"
                  },
                  "orientation": "h",
                  "showlegend": false,
                  "x": [
                    2,
                    382,
                    1323,
                    1826,
                    17698,
                    19696,
                    29073
                  ],
                  "y": [
                    "(not set)",
                    "cpm",
                    "affiliate",
                    "cpc",
                    "organic",
                    "referral",
                    "(none)"
                  ],
                  "type": "bar",
                  "uid": "edb7aa50-6c3d-4f53-aeb7-d625e3950988",
                  "xaxis": "x4",
                  "yaxis": "y4"
                },
                {
                  "marker": {
                    "color": "blue"
                  },
                  "orientation": "h",
                  "showlegend": false,
                  "x": [
                    0,
                    8,
                    0,
                    15,
                    92,
                    21,
                    631
                  ],
                  "y": [
                    "(not set)",
                    "cpm",
                    "affiliate",
                    "cpc",
                    "organic",
                    "referral",
                    "(none)"
                  ],
                  "type": "bar",
                  "uid": "ea447244-1929-4bbe-bfec-506cc1b86c07",
                  "xaxis": "x5",
                  "yaxis": "y5"
                },
                {
                  "marker": {
                    "color": "blue"
                  },
                  "orientation": "h",
                  "showlegend": false,
                  "x": [
                    null,
                    263563750,
                    null,
                    84700000,
                    98270434.7826087,
                    126776190.47619048,
                    123537004.75435816
                  ],
                  "y": [
                    "(not set)",
                    "cpm",
                    "affiliate",
                    "cpc",
                    "organic",
                    "referral",
                    "(none)"
                  ],
                  "type": "bar",
                  "uid": "91f56f9e-4883-4f8b-8fee-d801bdbd8561",
                  "xaxis": "x6",
                  "yaxis": "y6"
                }
              ],
              "layout": {
                "annotations": [
                  {
                    "font": {
                      "size": 16
                    },
                    "showarrow": false,
                    "text": "Traffic Source - Count",
                    "x": 0.11666666666666665,
                    "xanchor": "center",
                    "xref": "paper",
                    "y": 1,
                    "yanchor": "bottom",
                    "yref": "paper"
                  },
                  {
                    "font": {
                      "size": 16
                    },
                    "showarrow": false,
                    "text": "Traffic Source - Non-zero Revenue Count",
                    "x": 0.49999999999999994,
                    "xanchor": "center",
                    "xref": "paper",
                    "y": 1,
                    "yanchor": "bottom",
                    "yref": "paper"
                  },
                  {
                    "font": {
                      "size": 16
                    },
                    "showarrow": false,
                    "text": "Traffic Source - Mean Revenue",
                    "x": 0.8833333333333333,
                    "xanchor": "center",
                    "xref": "paper",
                    "y": 1,
                    "yanchor": "bottom",
                    "yref": "paper"
                  },
                  {
                    "font": {
                      "size": 16
                    },
                    "showarrow": false,
                    "text": "Traffic Source Medium - Count",
                    "x": 0.11666666666666665,
                    "xanchor": "center",
                    "xref": "paper",
                    "y": 0.46,
                    "yanchor": "bottom",
                    "yref": "paper"
                  },
                  {
                    "font": {
                      "size": 16
                    },
                    "showarrow": false,
                    "text": "Traffic Source Medium - Non-zero Revenue Count",
                    "x": 0.49999999999999994,
                    "xanchor": "center",
                    "xref": "paper",
                    "y": 0.46,
                    "yanchor": "bottom",
                    "yref": "paper"
                  },
                  {
                    "font": {
                      "size": 16
                    },
                    "showarrow": false,
                    "text": "Traffic Source Medium - Mean Revenue",
                    "x": 0.8833333333333333,
                    "xanchor": "center",
                    "xref": "paper",
                    "y": 0.46,
                    "yanchor": "bottom",
                    "yref": "paper"
                  }
                ],
                "xaxis": {
                  "anchor": "y",
                  "domain": [
                    0,
                    0.2333333333333333
                  ]
                },
                "yaxis": {
                  "anchor": "x",
                  "domain": [
                    0.54,
                    1
                  ]
                },
                "xaxis2": {
                  "anchor": "y2",
                  "domain": [
                    0.3833333333333333,
                    0.6166666666666666
                  ]
                },
                "yaxis2": {
                  "anchor": "x2",
                  "domain": [
                    0.54,
                    1
                  ]
                },
                "xaxis3": {
                  "anchor": "y3",
                  "domain": [
                    0.7666666666666666,
                    0.9999999999999999
                  ]
                },
                "yaxis3": {
                  "anchor": "x3",
                  "domain": [
                    0.54,
                    1
                  ]
                },
                "xaxis4": {
                  "anchor": "y4",
                  "domain": [
                    0,
                    0.2333333333333333
                  ]
                },
                "yaxis4": {
                  "anchor": "x4",
                  "domain": [
                    0,
                    0.46
                  ]
                },
                "xaxis5": {
                  "anchor": "y5",
                  "domain": [
                    0.3833333333333333,
                    0.6166666666666666
                  ]
                },
                "yaxis5": {
                  "anchor": "x5",
                  "domain": [
                    0,
                    0.46
                  ]
                },
                "xaxis6": {
                  "anchor": "y6",
                  "domain": [
                    0.7666666666666666,
                    0.9999999999999999
                  ]
                },
                "yaxis6": {
                  "anchor": "x6",
                  "domain": [
                    0,
                    0.46
                  ]
                },
                "height": 1000,
                "width": 1200,
                "paper_bgcolor": "rgb(233,233,233)",
                "title": "Traffic Source Plots"
              }
            },
            "text/html": "<div id=\"fb7551bf-23f4-45a1-b560-6dce1d1152ac\" style=\"height: 1000px; width: 1200px;\" class=\"plotly-graph-div\"></div><script type=\"text/javascript\">require([\"plotly\"], function(Plotly) { window.PLOTLYENV=window.PLOTLYENV || {};window.PLOTLYENV.BASE_URL=\"https://plot.ly\";Plotly.newPlot(\"fb7551bf-23f4-45a1-b560-6dce1d1152ac\", [{\"marker\": {\"color\": \"green\"}, \"orientation\": \"h\", \"showlegend\": false, \"x\": [207, 276, 327, 335, 366, 1325, 1573, 15671, 19088, 29073], \"y\": [\"baidu\", \"m.facebook.com\", \"google.com\", \"dfa\", \"sites.google.com\", \"Partners\", \"analytics.google.com\", \"youtube.com\", \"google\", \"(direct)\"], \"type\": \"bar\", \"uid\": \"b2e5aac3-dc38-4ac3-9b6e-94bffc61fba2\", \"xaxis\": \"x\", \"yaxis\": \"y\"}, {\"marker\": {\"color\": \"green\"}, \"orientation\": \"h\", \"showlegend\": false, \"x\": [0, 0, 2, 8, 4, 0, 0, 1, 104, 631], \"y\": [\"baidu\", \"m.facebook.com\", \"google.com\", \"dfa\", \"sites.google.com\", \"Partners\", \"analytics.google.com\", \"youtube.com\", \"google\", \"(direct)\"], \"type\": \"bar\", \"uid\": \"4b87538f-5e45-4d4d-a168-8d141b8c15c4\", \"xaxis\": \"x2\", \"yaxis\": \"y2\"}, {\"marker\": {\"color\": \"green\"}, \"orientation\": \"h\", \"showlegend\": false, \"x\": [null, null, 21990000.0, 263563750.0, 175505000.0, null, null, 16990000.0, 82962980.76923077, 123537004.75435816], \"y\": [\"baidu\", \"m.facebook.com\", \"google.com\", \"dfa\", \"sites.google.com\", \"Partners\", \"analytics.google.com\", \"youtube.com\", \"google\", \"(direct)\"], \"type\": \"bar\", \"uid\": \"1a7b3601-f86b-461e-b173-59a185aa1a07\", \"xaxis\": \"x3\", \"yaxis\": \"y3\"}, {\"marker\": {\"color\": \"blue\"}, \"orientation\": \"h\", \"showlegend\": false, \"x\": [2, 382, 1323, 1826, 17698, 19696, 29073], \"y\": [\"(not set)\", \"cpm\", \"affiliate\", \"cpc\", \"organic\", \"referral\", \"(none)\"], \"type\": \"bar\", \"uid\": \"edb7aa50-6c3d-4f53-aeb7-d625e3950988\", \"xaxis\": \"x4\", \"yaxis\": \"y4\"}, {\"marker\": {\"color\": \"blue\"}, \"orientation\": \"h\", \"showlegend\": false, \"x\": [0, 8, 0, 15, 92, 21, 631], \"y\": [\"(not set)\", \"cpm\", \"affiliate\", \"cpc\", \"organic\", \"referral\", \"(none)\"], \"type\": \"bar\", \"uid\": \"ea447244-1929-4bbe-bfec-506cc1b86c07\", \"xaxis\": \"x5\", \"yaxis\": \"y5\"}, {\"marker\": {\"color\": \"blue\"}, \"orientation\": \"h\", \"showlegend\": false, \"x\": [null, 263563750.0, null, 84700000.0, 98270434.7826087, 126776190.47619048, 123537004.75435816], \"y\": [\"(not set)\", \"cpm\", \"affiliate\", \"cpc\", \"organic\", \"referral\", \"(none)\"], \"type\": \"bar\", \"uid\": \"91f56f9e-4883-4f8b-8fee-d801bdbd8561\", \"xaxis\": \"x6\", \"yaxis\": \"y6\"}], {\"annotations\": [{\"font\": {\"size\": 16}, \"showarrow\": false, \"text\": \"Traffic Source - Count\", \"x\": 0.11666666666666665, \"xanchor\": \"center\", \"xref\": \"paper\", \"y\": 1.0, \"yanchor\": \"bottom\", \"yref\": \"paper\"}, {\"font\": {\"size\": 16}, \"showarrow\": false, \"text\": \"Traffic Source - Non-zero Revenue Count\", \"x\": 0.49999999999999994, \"xanchor\": \"center\", \"xref\": \"paper\", \"y\": 1.0, \"yanchor\": \"bottom\", \"yref\": \"paper\"}, {\"font\": {\"size\": 16}, \"showarrow\": false, \"text\": \"Traffic Source - Mean Revenue\", \"x\": 0.8833333333333333, \"xanchor\": \"center\", \"xref\": \"paper\", \"y\": 1.0, \"yanchor\": \"bottom\", \"yref\": \"paper\"}, {\"font\": {\"size\": 16}, \"showarrow\": false, \"text\": \"Traffic Source Medium - Count\", \"x\": 0.11666666666666665, \"xanchor\": \"center\", \"xref\": \"paper\", \"y\": 0.46, \"yanchor\": \"bottom\", \"yref\": \"paper\"}, {\"font\": {\"size\": 16}, \"showarrow\": false, \"text\": \"Traffic Source Medium - Non-zero Revenue Count\", \"x\": 0.49999999999999994, \"xanchor\": \"center\", \"xref\": \"paper\", \"y\": 0.46, \"yanchor\": \"bottom\", \"yref\": \"paper\"}, {\"font\": {\"size\": 16}, \"showarrow\": false, \"text\": \"Traffic Source Medium - Mean Revenue\", \"x\": 0.8833333333333333, \"xanchor\": \"center\", \"xref\": \"paper\", \"y\": 0.46, \"yanchor\": \"bottom\", \"yref\": \"paper\"}], \"xaxis\": {\"anchor\": \"y\", \"domain\": [0.0, 0.2333333333333333]}, \"yaxis\": {\"anchor\": \"x\", \"domain\": [0.54, 1.0]}, \"xaxis2\": {\"anchor\": \"y2\", \"domain\": [0.3833333333333333, 0.6166666666666666]}, \"yaxis2\": {\"anchor\": \"x2\", \"domain\": [0.54, 1.0]}, \"xaxis3\": {\"anchor\": \"y3\", \"domain\": [0.7666666666666666, 0.9999999999999999]}, \"yaxis3\": {\"anchor\": \"x3\", \"domain\": [0.54, 1.0]}, \"xaxis4\": {\"anchor\": \"y4\", \"domain\": [0.0, 0.2333333333333333]}, \"yaxis4\": {\"anchor\": \"x4\", \"domain\": [0.0, 0.46]}, \"xaxis5\": {\"anchor\": \"y5\", \"domain\": [0.3833333333333333, 0.6166666666666666]}, \"yaxis5\": {\"anchor\": \"x5\", \"domain\": [0.0, 0.46]}, \"xaxis6\": {\"anchor\": \"y6\", \"domain\": [0.7666666666666666, 0.9999999999999999]}, \"yaxis6\": {\"anchor\": \"x6\", \"domain\": [0.0, 0.46]}, \"height\": 1000, \"width\": 1200, \"paper_bgcolor\": \"rgb(233,233,233)\", \"title\": \"Traffic Source Plots\"}, {\"showLink\": true, \"linkText\": \"Export to plot.ly\"})});</script>",
            "text/vnd.plotly.v1+html": "<div id=\"fb7551bf-23f4-45a1-b560-6dce1d1152ac\" style=\"height: 1000px; width: 1200px;\" class=\"plotly-graph-div\"></div><script type=\"text/javascript\">require([\"plotly\"], function(Plotly) { window.PLOTLYENV=window.PLOTLYENV || {};window.PLOTLYENV.BASE_URL=\"https://plot.ly\";Plotly.newPlot(\"fb7551bf-23f4-45a1-b560-6dce1d1152ac\", [{\"marker\": {\"color\": \"green\"}, \"orientation\": \"h\", \"showlegend\": false, \"x\": [207, 276, 327, 335, 366, 1325, 1573, 15671, 19088, 29073], \"y\": [\"baidu\", \"m.facebook.com\", \"google.com\", \"dfa\", \"sites.google.com\", \"Partners\", \"analytics.google.com\", \"youtube.com\", \"google\", \"(direct)\"], \"type\": \"bar\", \"uid\": \"b2e5aac3-dc38-4ac3-9b6e-94bffc61fba2\", \"xaxis\": \"x\", \"yaxis\": \"y\"}, {\"marker\": {\"color\": \"green\"}, \"orientation\": \"h\", \"showlegend\": false, \"x\": [0, 0, 2, 8, 4, 0, 0, 1, 104, 631], \"y\": [\"baidu\", \"m.facebook.com\", \"google.com\", \"dfa\", \"sites.google.com\", \"Partners\", \"analytics.google.com\", \"youtube.com\", \"google\", \"(direct)\"], \"type\": \"bar\", \"uid\": \"4b87538f-5e45-4d4d-a168-8d141b8c15c4\", \"xaxis\": \"x2\", \"yaxis\": \"y2\"}, {\"marker\": {\"color\": \"green\"}, \"orientation\": \"h\", \"showlegend\": false, \"x\": [null, null, 21990000.0, 263563750.0, 175505000.0, null, null, 16990000.0, 82962980.76923077, 123537004.75435816], \"y\": [\"baidu\", \"m.facebook.com\", \"google.com\", \"dfa\", \"sites.google.com\", \"Partners\", \"analytics.google.com\", \"youtube.com\", \"google\", \"(direct)\"], \"type\": \"bar\", \"uid\": \"1a7b3601-f86b-461e-b173-59a185aa1a07\", \"xaxis\": \"x3\", \"yaxis\": \"y3\"}, {\"marker\": {\"color\": \"blue\"}, \"orientation\": \"h\", \"showlegend\": false, \"x\": [2, 382, 1323, 1826, 17698, 19696, 29073], \"y\": [\"(not set)\", \"cpm\", \"affiliate\", \"cpc\", \"organic\", \"referral\", \"(none)\"], \"type\": \"bar\", \"uid\": \"edb7aa50-6c3d-4f53-aeb7-d625e3950988\", \"xaxis\": \"x4\", \"yaxis\": \"y4\"}, {\"marker\": {\"color\": \"blue\"}, \"orientation\": \"h\", \"showlegend\": false, \"x\": [0, 8, 0, 15, 92, 21, 631], \"y\": [\"(not set)\", \"cpm\", \"affiliate\", \"cpc\", \"organic\", \"referral\", \"(none)\"], \"type\": \"bar\", \"uid\": \"ea447244-1929-4bbe-bfec-506cc1b86c07\", \"xaxis\": \"x5\", \"yaxis\": \"y5\"}, {\"marker\": {\"color\": \"blue\"}, \"orientation\": \"h\", \"showlegend\": false, \"x\": [null, 263563750.0, null, 84700000.0, 98270434.7826087, 126776190.47619048, 123537004.75435816], \"y\": [\"(not set)\", \"cpm\", \"affiliate\", \"cpc\", \"organic\", \"referral\", \"(none)\"], \"type\": \"bar\", \"uid\": \"91f56f9e-4883-4f8b-8fee-d801bdbd8561\", \"xaxis\": \"x6\", \"yaxis\": \"y6\"}], {\"annotations\": [{\"font\": {\"size\": 16}, \"showarrow\": false, \"text\": \"Traffic Source - Count\", \"x\": 0.11666666666666665, \"xanchor\": \"center\", \"xref\": \"paper\", \"y\": 1.0, \"yanchor\": \"bottom\", \"yref\": \"paper\"}, {\"font\": {\"size\": 16}, \"showarrow\": false, \"text\": \"Traffic Source - Non-zero Revenue Count\", \"x\": 0.49999999999999994, \"xanchor\": \"center\", \"xref\": \"paper\", \"y\": 1.0, \"yanchor\": \"bottom\", \"yref\": \"paper\"}, {\"font\": {\"size\": 16}, \"showarrow\": false, \"text\": \"Traffic Source - Mean Revenue\", \"x\": 0.8833333333333333, \"xanchor\": \"center\", \"xref\": \"paper\", \"y\": 1.0, \"yanchor\": \"bottom\", \"yref\": \"paper\"}, {\"font\": {\"size\": 16}, \"showarrow\": false, \"text\": \"Traffic Source Medium - Count\", \"x\": 0.11666666666666665, \"xanchor\": \"center\", \"xref\": \"paper\", \"y\": 0.46, \"yanchor\": \"bottom\", \"yref\": \"paper\"}, {\"font\": {\"size\": 16}, \"showarrow\": false, \"text\": \"Traffic Source Medium - Non-zero Revenue Count\", \"x\": 0.49999999999999994, \"xanchor\": \"center\", \"xref\": \"paper\", \"y\": 0.46, \"yanchor\": \"bottom\", \"yref\": \"paper\"}, {\"font\": {\"size\": 16}, \"showarrow\": false, \"text\": \"Traffic Source Medium - Mean Revenue\", \"x\": 0.8833333333333333, \"xanchor\": \"center\", \"xref\": \"paper\", \"y\": 0.46, \"yanchor\": \"bottom\", \"yref\": \"paper\"}], \"xaxis\": {\"anchor\": \"y\", \"domain\": [0.0, 0.2333333333333333]}, \"yaxis\": {\"anchor\": \"x\", \"domain\": [0.54, 1.0]}, \"xaxis2\": {\"anchor\": \"y2\", \"domain\": [0.3833333333333333, 0.6166666666666666]}, \"yaxis2\": {\"anchor\": \"x2\", \"domain\": [0.54, 1.0]}, \"xaxis3\": {\"anchor\": \"y3\", \"domain\": [0.7666666666666666, 0.9999999999999999]}, \"yaxis3\": {\"anchor\": \"x3\", \"domain\": [0.54, 1.0]}, \"xaxis4\": {\"anchor\": \"y4\", \"domain\": [0.0, 0.2333333333333333]}, \"yaxis4\": {\"anchor\": \"x4\", \"domain\": [0.0, 0.46]}, \"xaxis5\": {\"anchor\": \"y5\", \"domain\": [0.3833333333333333, 0.6166666666666666]}, \"yaxis5\": {\"anchor\": \"x5\", \"domain\": [0.0, 0.46]}, \"xaxis6\": {\"anchor\": \"y6\", \"domain\": [0.7666666666666666, 0.9999999999999999]}, \"yaxis6\": {\"anchor\": \"x6\", \"domain\": [0.0, 0.46]}, \"height\": 1000, \"width\": 1200, \"paper_bgcolor\": \"rgb(233,233,233)\", \"title\": \"Traffic Source Plots\"}, {\"showLink\": true, \"linkText\": \"Export to plot.ly\"})});</script>"
          },
          "metadata": {}
        }
      ]
    },
    {
      "metadata": {
        "trusted": true,
        "_uuid": "9a00a7cd86a277d333eabff3144a6aaeb4a3b6b6"
      },
      "cell_type": "code",
      "source": "import datetime \ndef datemodify(df):\n    df[\"date\"] = df[\"date\"].astype(str)\n    df[\"date\"] = df[\"date\"].apply(lambda x : x[:4] + \"-\" + x[4:6] + \"-\" + x[6:])\n    df[\"date\"] = pd.to_datetime(df[\"date\"])\n    \n    #df[\"month\"]   = df['date'].dt.month\n    #df[\"day\"]     = df['date'].dt.day\n    #df[\"weekday\"] = df['date'].dt.weekday\n    return df \n\ndf_train['date'] = df_train['date'].astype(str)\ndf_train[\"date\"] = df_train[\"date\"].apply(lambda x : x[:4] + \"-\" + x[4:6] + \"-\" + x[6:])\ndf_train['date'] = pd.to_datetime(df_train['date'])\n\ntmp = df_train['date'].value_counts().to_frame().reset_index().sort_values('index')\ntmp = tmp.rename(columns = {\"index\" : \"dateX\", \"date\" : \"visits\"})\n\ntr = go.Scatter(mode=\"lines\", x = tmp[\"dateX\"].astype(str), y = tmp[\"visits\"])\nlayout = go.Layout(title=\"Visits by date\", height=400)\nfig = go.Figure(data = [tr], layout = layout)\npy.iplot(fig)\n",
      "execution_count": 8,
      "outputs": [
        {
          "output_type": "display_data",
          "data": {
            "application/vnd.plotly.v1+json": {
              "data": [
                {
                  "mode": "lines",
                  "x": [
                    "2016-08-11",
                    "2016-09-02",
                    "2016-11-10",
                    "2016-11-12",
                    "2016-11-18",
                    "2016-11-23",
                    "2016-12-13",
                    "2017-01-13",
                    "2017-01-26",
                    "2017-02-03",
                    "2017-03-12",
                    "2017-05-01",
                    "2017-06-11",
                    "2017-06-13",
                    "2017-06-21",
                    "2017-06-23",
                    "2017-06-30",
                    "2017-10-16",
                    "2017-11-10",
                    "2017-11-11",
                    "2017-11-30",
                    "2018-01-03",
                    "2018-01-17",
                    "2018-01-20",
                    "2018-03-07",
                    "2018-04-15",
                    "2018-04-29"
                  ],
                  "y": [
                    2667,
                    2613,
                    4055,
                    3119,
                    3654,
                    3805,
                    1665,
                    1967,
                    2209,
                    2182,
                    1781,
                    2588,
                    1555,
                    2181,
                    2357,
                    2095,
                    2499,
                    2989,
                    3186,
                    2471,
                    3178,
                    2747,
                    3120,
                    2024,
                    3227,
                    2089,
                    1977
                  ],
                  "type": "scatter",
                  "uid": "27c69b97-87d9-4cab-ac53-8623afab0bbe"
                }
              ],
              "layout": {
                "height": 400,
                "title": "Visits by date"
              }
            },
            "text/html": "<div id=\"31856002-3dae-442d-9b62-1331065efcf3\" style=\"height: 400px; width: 100%;\" class=\"plotly-graph-div\"></div><script type=\"text/javascript\">require([\"plotly\"], function(Plotly) { window.PLOTLYENV=window.PLOTLYENV || {};window.PLOTLYENV.BASE_URL=\"https://plot.ly\";Plotly.newPlot(\"31856002-3dae-442d-9b62-1331065efcf3\", [{\"mode\": \"lines\", \"x\": [\"2016-08-11\", \"2016-09-02\", \"2016-11-10\", \"2016-11-12\", \"2016-11-18\", \"2016-11-23\", \"2016-12-13\", \"2017-01-13\", \"2017-01-26\", \"2017-02-03\", \"2017-03-12\", \"2017-05-01\", \"2017-06-11\", \"2017-06-13\", \"2017-06-21\", \"2017-06-23\", \"2017-06-30\", \"2017-10-16\", \"2017-11-10\", \"2017-11-11\", \"2017-11-30\", \"2018-01-03\", \"2018-01-17\", \"2018-01-20\", \"2018-03-07\", \"2018-04-15\", \"2018-04-29\"], \"y\": [2667, 2613, 4055, 3119, 3654, 3805, 1665, 1967, 2209, 2182, 1781, 2588, 1555, 2181, 2357, 2095, 2499, 2989, 3186, 2471, 3178, 2747, 3120, 2024, 3227, 2089, 1977], \"type\": \"scatter\", \"uid\": \"27c69b97-87d9-4cab-ac53-8623afab0bbe\"}], {\"height\": 400, \"title\": \"Visits by date\"}, {\"showLink\": true, \"linkText\": \"Export to plot.ly\"})});</script><script type=\"text/javascript\">window.addEventListener(\"resize\", function(){window._Plotly.Plots.resize(document.getElementById(\"31856002-3dae-442d-9b62-1331065efcf3\"));});</script>",
            "text/vnd.plotly.v1+html": "<div id=\"31856002-3dae-442d-9b62-1331065efcf3\" style=\"height: 400px; width: 100%;\" class=\"plotly-graph-div\"></div><script type=\"text/javascript\">require([\"plotly\"], function(Plotly) { window.PLOTLYENV=window.PLOTLYENV || {};window.PLOTLYENV.BASE_URL=\"https://plot.ly\";Plotly.newPlot(\"31856002-3dae-442d-9b62-1331065efcf3\", [{\"mode\": \"lines\", \"x\": [\"2016-08-11\", \"2016-09-02\", \"2016-11-10\", \"2016-11-12\", \"2016-11-18\", \"2016-11-23\", \"2016-12-13\", \"2017-01-13\", \"2017-01-26\", \"2017-02-03\", \"2017-03-12\", \"2017-05-01\", \"2017-06-11\", \"2017-06-13\", \"2017-06-21\", \"2017-06-23\", \"2017-06-30\", \"2017-10-16\", \"2017-11-10\", \"2017-11-11\", \"2017-11-30\", \"2018-01-03\", \"2018-01-17\", \"2018-01-20\", \"2018-03-07\", \"2018-04-15\", \"2018-04-29\"], \"y\": [2667, 2613, 4055, 3119, 3654, 3805, 1665, 1967, 2209, 2182, 1781, 2588, 1555, 2181, 2357, 2095, 2499, 2989, 3186, 2471, 3178, 2747, 3120, 2024, 3227, 2089, 1977], \"type\": \"scatter\", \"uid\": \"27c69b97-87d9-4cab-ac53-8623afab0bbe\"}], {\"height\": 400, \"title\": \"Visits by date\"}, {\"showLink\": true, \"linkText\": \"Export to plot.ly\"})});</script><script type=\"text/javascript\">window.addEventListener(\"resize\", function(){window._Plotly.Plots.resize(document.getElementById(\"31856002-3dae-442d-9b62-1331065efcf3\"));});</script>"
          },
          "metadata": {}
        }
      ]
    },
    {
      "metadata": {
        "trusted": true,
        "_uuid": "cd165a54f5c9f8e04ee12c240e227c743bc47e27"
      },
      "cell_type": "code",
      "source": "tmp = df_train.groupby(\"date\").agg({\"transactionRevenue\" : \"mean\"}).reset_index()\ntmp = tmp.rename(columns = {\"date\" : \"dateX\", \"transactionRevenue\" : \"mean_revenue\"})\ntr = go.Scatter(mode=\"lines\", x = tmp[\"dateX\"].astype(str), y = tmp[\"mean_revenue\"])\nlayout = go.Layout(title=\"MonthlyRevenue by date\", height=400)\nfig = go.Figure(data = [tr], layout = layout)\npy.iplot(fig)",
      "execution_count": 9,
      "outputs": [
        {
          "output_type": "display_data",
          "data": {
            "application/vnd.plotly.v1+json": {
              "data": [
                {
                  "mode": "lines",
                  "x": [
                    "2016-08-11",
                    "2016-09-02",
                    "2016-11-10",
                    "2016-11-12",
                    "2016-11-18",
                    "2016-11-23",
                    "2016-12-13",
                    "2017-01-13",
                    "2017-01-26",
                    "2017-02-03",
                    "2017-03-12",
                    "2017-05-01",
                    "2017-06-11",
                    "2017-06-13",
                    "2017-06-21",
                    "2017-06-23",
                    "2017-06-30",
                    "2017-10-16",
                    "2017-11-10",
                    "2017-11-11",
                    "2017-11-30",
                    "2018-01-03",
                    "2018-01-17",
                    "2018-01-20",
                    "2018-03-07",
                    "2018-04-15",
                    "2018-04-29"
                  ],
                  "y": [
                    165047111.1111111,
                    160090370.37037036,
                    178482400,
                    72926666.66666667,
                    134134571.42857143,
                    169438387.0967742,
                    127648684.21052632,
                    113200000,
                    137600000,
                    158068275.86206895,
                    52390000,
                    91360000,
                    40565769.23076923,
                    120895625,
                    247915882.3529412,
                    78469615.38461539,
                    120666363.63636364,
                    68975833.33333333,
                    117221428.57142857,
                    62350000,
                    89182857.14285715,
                    72188571.42857143,
                    127415000,
                    66395000,
                    118182333.33333333,
                    41707142.85714286,
                    90652142.85714285
                  ],
                  "type": "scatter",
                  "uid": "9dcd73d2-984a-465e-aaad-0c5bbc315fe7"
                }
              ],
              "layout": {
                "height": 400,
                "title": "MonthlyRevenue by date"
              }
            },
            "text/html": "<div id=\"1062340b-0ddd-402d-866b-3987f09b3f80\" style=\"height: 400px; width: 100%;\" class=\"plotly-graph-div\"></div><script type=\"text/javascript\">require([\"plotly\"], function(Plotly) { window.PLOTLYENV=window.PLOTLYENV || {};window.PLOTLYENV.BASE_URL=\"https://plot.ly\";Plotly.newPlot(\"1062340b-0ddd-402d-866b-3987f09b3f80\", [{\"mode\": \"lines\", \"x\": [\"2016-08-11\", \"2016-09-02\", \"2016-11-10\", \"2016-11-12\", \"2016-11-18\", \"2016-11-23\", \"2016-12-13\", \"2017-01-13\", \"2017-01-26\", \"2017-02-03\", \"2017-03-12\", \"2017-05-01\", \"2017-06-11\", \"2017-06-13\", \"2017-06-21\", \"2017-06-23\", \"2017-06-30\", \"2017-10-16\", \"2017-11-10\", \"2017-11-11\", \"2017-11-30\", \"2018-01-03\", \"2018-01-17\", \"2018-01-20\", \"2018-03-07\", \"2018-04-15\", \"2018-04-29\"], \"y\": [165047111.1111111, 160090370.37037036, 178482400.0, 72926666.66666667, 134134571.42857143, 169438387.0967742, 127648684.21052632, 113200000.0, 137600000.0, 158068275.86206895, 52390000.0, 91360000.0, 40565769.23076923, 120895625.0, 247915882.3529412, 78469615.38461539, 120666363.63636364, 68975833.33333333, 117221428.57142857, 62350000.0, 89182857.14285715, 72188571.42857143, 127415000.0, 66395000.0, 118182333.33333333, 41707142.85714286, 90652142.85714285], \"type\": \"scatter\", \"uid\": \"9dcd73d2-984a-465e-aaad-0c5bbc315fe7\"}], {\"height\": 400, \"title\": \"MonthlyRevenue by date\"}, {\"showLink\": true, \"linkText\": \"Export to plot.ly\"})});</script><script type=\"text/javascript\">window.addEventListener(\"resize\", function(){window._Plotly.Plots.resize(document.getElementById(\"1062340b-0ddd-402d-866b-3987f09b3f80\"));});</script>",
            "text/vnd.plotly.v1+html": "<div id=\"1062340b-0ddd-402d-866b-3987f09b3f80\" style=\"height: 400px; width: 100%;\" class=\"plotly-graph-div\"></div><script type=\"text/javascript\">require([\"plotly\"], function(Plotly) { window.PLOTLYENV=window.PLOTLYENV || {};window.PLOTLYENV.BASE_URL=\"https://plot.ly\";Plotly.newPlot(\"1062340b-0ddd-402d-866b-3987f09b3f80\", [{\"mode\": \"lines\", \"x\": [\"2016-08-11\", \"2016-09-02\", \"2016-11-10\", \"2016-11-12\", \"2016-11-18\", \"2016-11-23\", \"2016-12-13\", \"2017-01-13\", \"2017-01-26\", \"2017-02-03\", \"2017-03-12\", \"2017-05-01\", \"2017-06-11\", \"2017-06-13\", \"2017-06-21\", \"2017-06-23\", \"2017-06-30\", \"2017-10-16\", \"2017-11-10\", \"2017-11-11\", \"2017-11-30\", \"2018-01-03\", \"2018-01-17\", \"2018-01-20\", \"2018-03-07\", \"2018-04-15\", \"2018-04-29\"], \"y\": [165047111.1111111, 160090370.37037036, 178482400.0, 72926666.66666667, 134134571.42857143, 169438387.0967742, 127648684.21052632, 113200000.0, 137600000.0, 158068275.86206895, 52390000.0, 91360000.0, 40565769.23076923, 120895625.0, 247915882.3529412, 78469615.38461539, 120666363.63636364, 68975833.33333333, 117221428.57142857, 62350000.0, 89182857.14285715, 72188571.42857143, 127415000.0, 66395000.0, 118182333.33333333, 41707142.85714286, 90652142.85714285], \"type\": \"scatter\", \"uid\": \"9dcd73d2-984a-465e-aaad-0c5bbc315fe7\"}], {\"height\": 400, \"title\": \"MonthlyRevenue by date\"}, {\"showLink\": true, \"linkText\": \"Export to plot.ly\"})});</script><script type=\"text/javascript\">window.addEventListener(\"resize\", function(){window._Plotly.Plots.resize(document.getElementById(\"1062340b-0ddd-402d-866b-3987f09b3f80\"));});</script>"
          },
          "metadata": {}
        }
      ]
    },
    {
      "metadata": {
        "trusted": true,
        "_uuid": "c10cf144a95969c6685a3f80425152ccd65a677b"
      },
      "cell_type": "code",
      "source": "cntr_rev = df_train.groupby('country')['transactionRevenue'].agg(['size', 'count', 'mean'])\ncntr_rev.columns = [\"count\", \"count of non-zero revenue\", \"mean\"]\ncntr_rev = cntr_rev.sort_values(by=\"count\", ascending=False)\n#trace1 = horizontal_bar_chart(cnt_srs[\"count\"].head(10), 'green')\ncntr_rev[\"count of non-zero revenue\"].head(10).plot(kind='bar',title='Non zero Revenue by country')\nplt.xlabel('Country')\nplt.ylabel('Non Zero Revenue')",
      "execution_count": 11,
      "outputs": [
        {
          "output_type": "execute_result",
          "execution_count": 11,
          "data": {
            "text/plain": "Text(0,0.5,'Non Zero Revenue')"
          },
          "metadata": {}
        },
        {
          "output_type": "display_data",
          "data": {
            "text/plain": "<Figure size 432x288 with 1 Axes>",
            "image/png": "[encoded data removed]"
          },
          "metadata": {}
        }
      ]
    }
  ],
  "metadata": {
    "kernelspec": {
      "display_name": "Python 3",
      "language": "python",
      "name": "python3"
    },
    "language_info": {
      "name": "python",
      "version": "3.6.6",
      "mimetype": "text/x-python",
      "codemirror_mode": {
        "name": "ipython",
        "version": 3
      },
      "pygments_lexer": "ipython3",
      "nbconvert_exporter": "python",
      "file_extension": ".py"
    }
  },
  "nbformat": 4,
  "nbformat_minor": 1
}